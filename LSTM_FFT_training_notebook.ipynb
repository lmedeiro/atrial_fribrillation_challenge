{
 "cells": [
  {
   "cell_type": "code",
   "execution_count": 1,
   "metadata": {},
   "outputs": [],
   "source": [
    "import matplotlib.pyplot as plt\n",
    "import numpy as np\n",
    "from time import localtime, strftime\n",
    "import seaborn as sns\n",
    "import torch\n",
    "import torch.nn as nn\n",
    "import torch.utils.data as torch_data\n",
    "import torch.nn.functional as F\n",
    "import torch.optim as optim\n",
    "import sklearn.preprocessing as preprocess\n",
    "from sklearn import decomposition\n",
    "from sklearn.model_selection import train_test_split\n",
    "from sklearn.metrics import confusion_matrix, classification_report, accuracy_score\n",
    "from sklearn import covariance as cov\n",
    "import wfdb\n",
    "import pandas as pd\n",
    "from pdb import set_trace as bp\n",
    "%matplotlib inline"
   ]
  },
  {
   "cell_type": "code",
   "execution_count": 2,
   "metadata": {},
   "outputs": [],
   "source": [
    "from skorch import NeuralNetClassifier\n",
    "# from skorch.classifier import NeuralNetBinaryClassifier, CVSplit\n",
    "from skorch.callbacks import EpochScoring"
   ]
  },
  {
   "cell_type": "code",
   "execution_count": 3,
   "metadata": {},
   "outputs": [],
   "source": [
    "data_dir = '/media/l7/data_storage1/datasets/afib_dataset/training2017/'"
   ]
  },
  {
   "cell_type": "code",
   "execution_count": 4,
   "metadata": {},
   "outputs": [],
   "source": [
    "\n",
    "def get_fft(data, absolute_value=True):\n",
    "    \"\"\"\n",
    "    Compute the fft for a specific input dataset.\n",
    "    :param data:\n",
    "    :param absolute_value:\n",
    "    :return:\n",
    "    \"\"\"\n",
    "    fft_data = np.fft.fft(data, axis=0) * 1/len(data)\n",
    "    if not absolute_value:\n",
    "        return fft_data\n",
    "    else:\n",
    "        abs_fft_data = abs(fft_data[:int(len(fft_data) / 2)])\n",
    "        return abs_fft_data\n",
    "\n",
    "\n",
    "def label_mapping(label):\n",
    "    if label == 'N':\n",
    "        return 0\n",
    "    elif label =='A':\n",
    "        return 1\n",
    "    elif label =='O': \n",
    "        return 2\n",
    "    else: \n",
    "        return 3\n",
    "    \n",
    "class GeneralDataset(torch_data.Dataset):\n",
    "    \n",
    "    def __init__(self, data, labels):\n",
    "        self.data = data\n",
    "        self.labels = labels\n",
    "    \n",
    "    def __len__(self,):\n",
    "        return len(self.data)\n",
    "    \n",
    "    def __getitem__(self,index):\n",
    "        sample = {'signal': torch.tensor(self.data[index]).float(),\n",
    "                 'label': torch.tensor(self.labels[index]).long()}\n",
    "        return sample"
   ]
  },
  {
   "cell_type": "code",
   "execution_count": 5,
   "metadata": {},
   "outputs": [
    {
     "data": {
      "text/plain": [
       "array([[-0.127, -0.162, -0.197, ...,  0.   ,  0.   ,  0.   ],\n",
       "       [ 0.128,  0.157,  0.189, ...,  0.   ,  0.   ,  0.   ],\n",
       "       [ 0.056,  0.073,  0.085, ...,  0.   ,  0.   ,  0.   ],\n",
       "       ...,\n",
       "       [-0.202, -0.235, -0.272, ...,  0.   ,  0.   ,  0.   ],\n",
       "       [-0.227, -0.297, -0.374, ...,  0.   ,  0.   ,  0.   ],\n",
       "       [-0.237, -0.286, -0.338, ...,  0.   ,  0.   ,  0.   ]])"
      ]
     },
     "execution_count": 5,
     "metadata": {},
     "output_type": "execute_result"
    }
   ],
   "source": [
    "data_np = np.load(data_dir + 'data_np.npy')\n",
    "fft_data_np = np.load(data_dir + 'fft_data_np.npy')\n",
    "labels_np = np.load(data_dir + 'labels.npy')\n",
    "data_np"
   ]
  },
  {
   "cell_type": "code",
   "execution_count": 6,
   "metadata": {},
   "outputs": [
    {
     "data": {
      "text/plain": [
       "array([[-0.127, -0.162, -0.197, ...,  0.   ,  0.   ,  0.   ],\n",
       "       [ 0.128,  0.157,  0.189, ...,  0.   ,  0.   ,  0.   ],\n",
       "       [ 0.056,  0.073,  0.085, ...,  0.   ,  0.   ,  0.   ],\n",
       "       ...,\n",
       "       [ 0.565,  0.676,  0.783, ...,  0.   ,  0.   ,  0.   ],\n",
       "       [-0.039, -0.06 , -0.077, ...,  0.   ,  0.   ,  0.   ],\n",
       "       [-0.268, -0.325, -0.383, ...,  0.   ,  0.   ,  0.   ]])"
      ]
     },
     "execution_count": 6,
     "metadata": {},
     "output_type": "execute_result"
    }
   ],
   "source": [
    "validation_data_np = np.load(data_dir + 'validation_data_np.npy')\n",
    "validation_fft_data_np = np.load(data_dir + 'validation_fft_data_np.npy')\n",
    "validation_labels_np = np.load(data_dir + 'validation_labels.npy')\n",
    "validation_data_np"
   ]
  },
  {
   "cell_type": "code",
   "execution_count": 13,
   "metadata": {},
   "outputs": [],
   "source": [
    "dimension_size = 9000"
   ]
  },
  {
   "cell_type": "code",
   "execution_count": 7,
   "metadata": {},
   "outputs": [],
   "source": [
    "standard_scaler = preprocess.StandardScaler()\n",
    "standard_scaler.fit(data_np[:,:dimension_size])\n",
    "processed_data = standard_scaler.transform(data_np[:,:dimension_size])"
   ]
  },
  {
   "cell_type": "code",
   "execution_count": 8,
   "metadata": {},
   "outputs": [],
   "source": [
    "fft_samples = 1500\n",
    "standard_scaler = preprocess.StandardScaler()\n",
    "standard_scaler.fit(fft_data_np[:,:fft_samples])\n",
    "fft_processed_data = standard_scaler.transform(fft_data_np[:,:fft_samples])"
   ]
  },
  {
   "cell_type": "code",
   "execution_count": 9,
   "metadata": {},
   "outputs": [],
   "source": [
    "standard_scaler = preprocess.StandardScaler()\n",
    "standard_scaler.fit(validation_data_np[:,:dimension_size])\n",
    "validation_processed_data = standard_scaler.transform(validation_data_np[:,:dimension_size])"
   ]
  },
  {
   "cell_type": "code",
   "execution_count": 10,
   "metadata": {},
   "outputs": [],
   "source": [
    "fft_samples = 1500\n",
    "standard_scaler = preprocess.StandardScaler()\n",
    "standard_scaler.fit(fft_data_np[:,:fft_samples])\n",
    "fft_validation_processed_data = standard_scaler.transform(validation_fft_data_np[:,:fft_samples])"
   ]
  },
  {
   "cell_type": "code",
   "execution_count": 58,
   "metadata": {},
   "outputs": [],
   "source": [
    "train_data = np.zeros([processed_data.shape[0], processed_data.shape[1] + fft_processed_data.shape[1]])\n",
    "train_data[:, :processed_data.shape[1]] += processed_data\n",
    "train_data[:, processed_data.shape[1]:] += fft_processed_data"
   ]
  },
  {
   "cell_type": "code",
   "execution_count": 59,
   "metadata": {},
   "outputs": [],
   "source": [
    "test_data = np.zeros([validation_processed_data.shape[0], validation_processed_data.shape[1] + fft_validation_processed_data.shape[1]])\n",
    "test_data[:, :validation_processed_data.shape[1]] += validation_processed_data\n",
    "test_data[:, validation_processed_data.shape[1]:] += fft_validation_processed_data"
   ]
  },
  {
   "cell_type": "code",
   "execution_count": 14,
   "metadata": {},
   "outputs": [],
   "source": [
    "def add_noise_to_dataset(data, numpy_data=False, noise_distribution=None, std=1.0):\n",
    "    \"\"\"\n",
    "    This function adds noise to data array. Noise is added for some specific distribution, with a set\n",
    "    standard deviation.\n",
    "    :param data: numpy array\n",
    "    :param numpy_data: bool, describing whether or not the data is a numpy array (otherwise it will be torch tensor)\n",
    "    :param noise_distribution:\n",
    "    :param std:\n",
    "    :return: numpy array with added noise\n",
    "    \"\"\"\n",
    "    numpy_tensor = False\n",
    "    pytorch_tensor = False\n",
    "    if not numpy_data:\n",
    "        if 'numpy' in str(type(data)):\n",
    "            numpy_tensor = True\n",
    "            data = torch.tensor(data).float()\n",
    "        else:\n",
    "            pytorch_tensor = True\n",
    "\n",
    "    if not noise_distribution:\n",
    "        if numpy_data:\n",
    "            noise_distribution = np.random.randn(data.shape[0], data.shape[1])\n",
    "            data = data + noise_distribution\n",
    "        else:\n",
    "            noise_distribution = np.random.randn(data.shape[0], data.shape[1], data.shape[2])\n",
    "            data = data + torch.tensor(noise_distribution).float().to(data.device)\n",
    "\n",
    "    else:\n",
    "        if numpy_data:\n",
    "            data = data + noise_distribution(scale=std,\n",
    "                                             size=[data.shape[0], data.shape[1]])\n",
    "        else:\n",
    "            data = data + torch.tensor(\n",
    "                noise_distribution(scale=std, size=[data.shape[0], data.shape[1], data.shape[2]])).float().to(data.device)\n",
    "    if pytorch_tensor:\n",
    "        return data\n",
    "    elif numpy_data:\n",
    "        return data\n",
    "    else:\n",
    "        return data.numpy()"
   ]
  },
  {
   "cell_type": "code",
   "execution_count": 63,
   "metadata": {},
   "outputs": [],
   "source": [
    "def double_class_rows(dataset, labels, class_number=1, random_state=1,\n",
    "                     add_noise=False, noise_distribution=None, std=1.0):\n",
    "    \"\"\"\n",
    "    This function helps balance by adding (or cloning) observations of a specific type.\n",
    "    :param dataset:\n",
    "    :param labels:\n",
    "    :param class_number:\n",
    "    :param random_state:\n",
    "    :return:\n",
    "    \"\"\"\n",
    "#     bp()\n",
    "    sample_rows = np.where(labels == class_number)\n",
    "    if add_noise:\n",
    "        dataset_new = add_noise_to_dataset(dataset[sample_rows],\n",
    "                                numpy_data=True, \n",
    "                                noise_distribution=noise_distribution, \n",
    "                                std=std)\n",
    "    else:\n",
    "        dataset_new = dataset[sample_rows]\n",
    "    dataset = np.concatenate((dataset, dataset_new))\n",
    "    labels = np.concatenate((labels, labels[sample_rows]))\n",
    "    dataset, x_test, labels, y_test = train_test_split(dataset,\n",
    "                                                      labels,\n",
    "                                                      test_size=0,\n",
    "                                                      random_state=random_state)\n",
    "    print(dataset.shape)\n",
    "    return dataset, labels\n",
    "    "
   ]
  },
  {
   "cell_type": "code",
   "execution_count": 64,
   "metadata": {},
   "outputs": [
    {
     "name": "stdout",
     "output_type": "stream",
     "text": [
      "(9266, 10500)\n"
     ]
    }
   ],
   "source": [
    "train_data, labels_train = double_class_rows(train_data, labels_np, class_number=1, \n",
    "                                             noise_distribution=np.random.normal, \n",
    "                                             add_noise=True, std=0.1)\n"
   ]
  },
  {
   "cell_type": "code",
   "execution_count": 38,
   "metadata": {},
   "outputs": [
    {
     "name": "stdout",
     "output_type": "stream",
     "text": [
      "(9550, 10500)\n"
     ]
    }
   ],
   "source": [
    "train_data, labels_train = double_class_rows(train_data, labels_train, class_number=3, \n",
    "                                             noise_distribution=np.random.normal, \n",
    "                                             add_noise=True, std=0.3)"
   ]
  },
  {
   "cell_type": "code",
   "execution_count": 39,
   "metadata": {},
   "outputs": [
    {
     "name": "stdout",
     "output_type": "stream",
     "text": [
      "(10118, 10500)\n"
     ]
    }
   ],
   "source": [
    "train_data, labels_train = double_class_rows(train_data, labels_train, class_number=3, \n",
    "                                             noise_distribution=np.random.normal, \n",
    "                                             add_noise=True, std=0.5)"
   ]
  },
  {
   "cell_type": "code",
   "execution_count": 40,
   "metadata": {},
   "outputs": [
    {
     "name": "stdout",
     "output_type": "stream",
     "text": [
      "(11594, 10500)\n"
     ]
    }
   ],
   "source": [
    "train_data, labels_train = double_class_rows(train_data, labels_train, class_number=1, \n",
    "                                             noise_distribution=np.random.normal, \n",
    "                                             add_noise=True, std=0.1)"
   ]
  },
  {
   "cell_type": "code",
   "execution_count": 41,
   "metadata": {},
   "outputs": [],
   "source": [
    "x_train = torch.tensor(train_data).float().unsqueeze(1)\n",
    "y_train = torch.tensor(labels_train).long()\n",
    "x_test = torch.tensor(test_data).float().unsqueeze(1)\n",
    "y_test = torch.tensor(validation_labels_np).long()"
   ]
  },
  {
   "cell_type": "code",
   "execution_count": 20,
   "metadata": {},
   "outputs": [
    {
     "data": {
      "text/plain": [
       "torch.Size([8528, 1, 10500])"
      ]
     },
     "execution_count": 20,
     "metadata": {},
     "output_type": "execute_result"
    }
   ],
   "source": [
    "x_train.shape"
   ]
  },
  {
   "cell_type": "code",
   "execution_count": 28,
   "metadata": {},
   "outputs": [],
   "source": [
    "class LSTMNN(torch.nn.Module):\n",
    "    def __init__(self, n_channels, n_features, n_hidden_d, n_classes, fft_samples,\n",
    "                lstm_layers=1, dropout=0):\n",
    "        super(LSTMNN, self).__init__()\n",
    "        self.name = 'LSTM_NN'\n",
    "        if lstm_layers > 1:\n",
    "            self.lstm_0 = torch.nn.LSTM(n_features, n_hidden_d, lstm_layers, dropout=dropout)\n",
    "            #self.lstm_0 = nn.GRU(n_features, n_hidden_d, lstm_layers, dropout=dropout)\n",
    "        else:\n",
    "            self.lstm_0 = torch.nn.LSTM(n_features, n_hidden_d, lstm_layers)\n",
    "        self.fc_0 = nn.Linear(fft_samples, n_hidden_d)\n",
    "        self.fc_1 = nn.Linear(n_hidden_d,\n",
    "                              n_classes)\n",
    "        self.n_hidden_d = n_hidden_d\n",
    "        self.n_features = n_features\n",
    "        self.fft_samples = fft_samples\n",
    "        \n",
    "    def forward(self, x):\n",
    "#         bp()\n",
    "        x = x.float()\n",
    "        signal_data = x[:,:,:self.n_features]\n",
    "        fft_data = x[:,:,self.n_features:self.n_features + self.fft_samples].squeeze(1)\n",
    "#         bp()\n",
    "        lstm_out, (h,c) = self.lstm_0(signal_data)\n",
    "        lstm_out = torch.tanh(lstm_out.flatten(1))\n",
    "        fft_out = self.fc_0(fft_data)\n",
    "        fft_out = torch.tanh(fft_out)\n",
    "        x = self.fc_1(lstm_out + fft_out)\n",
    "        x = F.softmax(x, dim=1)\n",
    "        del fft_out, signal_data, lstm_out\n",
    "        #x = torch.sigmoid(x)\n",
    "        return x\n"
   ]
  },
  {
   "cell_type": "code",
   "execution_count": 42,
   "metadata": {},
   "outputs": [],
   "source": [
    "device = torch.device('cuda')\n",
    "model_name = LSTMNN.__name__\n",
    "n_channels = 1\n",
    "n_features = dimension_size\n",
    "n_hidden_d = int(n_features / 5)\n",
    "n_classes = 4\n",
    "lstm_layers = 1\n",
    "model = None\n",
    "n_epochs = 10\n",
    "model = NeuralNetClassifier(module=LSTMNN, \n",
    "                            criterion=nn.CrossEntropyLoss,\n",
    "                            module__n_channels= n_channels,\n",
    "                            module__n_features=n_features,\n",
    "                            module__n_hidden_d = n_hidden_d,\n",
    "                            module__n_classes = n_classes,\n",
    "                            module__fft_samples = fft_samples,\n",
    "                            module__lstm_layers = lstm_layers,\n",
    "                            optimizer=optim.Adam, \n",
    "                            optimizer__lr=0.001,\n",
    "                            max_epochs=n_epochs, \n",
    "                            batch_size=32,\n",
    "                            iterator_train__shuffle=True,\n",
    "                            device=device,\n",
    "                            warm_start=True,#train_split=None,\n",
    "                           )\n"
   ]
  },
  {
   "cell_type": "code",
   "execution_count": 52,
   "metadata": {
    "scrolled": true
   },
   "outputs": [
    {
     "name": "stdout",
     "output_type": "stream",
     "text": [
      "     21        0.8052       0.7174        1.0235  25.9059\n",
      "     22        0.8072       0.7031        1.0345  25.9018\n",
      "     23        0.8079       0.7174        1.0223  25.8900\n",
      "     24        \u001b[36m0.8036\u001b[0m       0.7139        1.0269  25.8906\n",
      "     25        \u001b[36m0.8003\u001b[0m       \u001b[32m0.7281\u001b[0m        1.0144  25.8801\n"
     ]
    },
    {
     "data": {
      "text/plain": [
       "<class 'skorch.classifier.NeuralNetClassifier'>[initialized](\n",
       "  module_=LSTMNN(\n",
       "    (lstm_0): LSTM(9000, 1800)\n",
       "    (fc_0): Linear(in_features=1500, out_features=1800, bias=True)\n",
       "    (fc_1): Linear(in_features=1800, out_features=4, bias=True)\n",
       "  ),\n",
       ")"
      ]
     },
     "execution_count": 52,
     "metadata": {},
     "output_type": "execute_result"
    }
   ],
   "source": [
    "model.fit(x_train, y_train, epochs=5)"
   ]
  },
  {
   "cell_type": "code",
   "execution_count": 65,
   "metadata": {},
   "outputs": [],
   "source": [
    "classes = ['N', 'A', 'O', '~']"
   ]
  },
  {
   "cell_type": "code",
   "execution_count": 66,
   "metadata": {},
   "outputs": [],
   "source": [
    "def plot_confusion_matrix(y_pred, y, prefix_information='',\n",
    "                          dataset_name='', save_results=False,\n",
    "                          y_pred_is_predicted_classes=False):\n",
    "    \"\"\"\n",
    "    PLotting confusion matrix of different datasets (train, test, and validation).\n",
    "    :param y_pred:\n",
    "    :param y:\n",
    "    :param prefix_information:\n",
    "    :param dataset_name:\n",
    "    :param save_results:\n",
    "    :param y_pred_is_predicted_classes:\n",
    "    :return:\n",
    "    \"\"\"\n",
    "    if 'Tensor' in str(type(y)):\n",
    "        y = y.numpy()\n",
    "    c_matrix = confusion_matrix(y, y_pred)\n",
    "    accuracy = accuracy_score(y, y_pred)\n",
    "    result_accuracy_string = \"Accuracy of Net: {:.2f}\".format(accuracy)\n",
    "    print(result_accuracy_string)\n",
    "    print(\"\\nClassification report:\")\n",
    "    classfication_report_string = classification_report(y, y_pred)\n",
    "    print(classfication_report_string)\n",
    "    fig, ax = plt.subplots(1, figsize=(10, 10))\n",
    "    #ax.set_title(dataset_name + \" Confusion matrix\")\n",
    "    ax.set_title(\" Confusion matrix\", fontsize=24)\n",
    "    sns.heatmap(c_matrix, cmap='Blues', \n",
    "                annot=True, xticklabels=classes, \n",
    "                yticklabels=classes, fmt='g', cbar=False)\n",
    "    bottom, top = ax.get_ylim()\n",
    "    ax.set_ylim(bottom + 0.5, top - 0.5)\n",
    "    ax.set_xlabel('predictions', fontsize=22)\n",
    "    ax.set_ylabel('true labels', fontsize=22)\n",
    "    plt.tick_params(labelsize=18)\n",
    "    plt.tight_layout()\n",
    "    # plt.show()\n",
    "    return accuracy\n",
    "    "
   ]
  },
  {
   "cell_type": "code",
   "execution_count": 67,
   "metadata": {},
   "outputs": [
    {
     "name": "stdout",
     "output_type": "stream",
     "text": [
      "Accuracy of Net: 0.87\n",
      "\n",
      "Classification report:\n",
      "              precision    recall  f1-score   support\n",
      "\n",
      "           0       0.87      0.93      0.90       150\n",
      "           1       0.94      0.88      0.91        50\n",
      "           2       0.89      0.71      0.79        70\n",
      "           3       0.78      0.97      0.87        30\n",
      "\n",
      "   micro avg       0.87      0.87      0.87       300\n",
      "   macro avg       0.87      0.87      0.87       300\n",
      "weighted avg       0.88      0.87      0.87       300\n",
      "\n"
     ]
    },
    {
     "data": {
      "image/png": "[encoded data removed]",
      "text/plain": [
       "<Figure size 720x720 with 1 Axes>"
      ]
     },
     "metadata": {
      "needs_background": "light"
     },
     "output_type": "display_data"
    }
   ],
   "source": [
    "pred_test = model.predict(x_test)\n",
    "accuracy = plot_confusion_matrix(pred_test, y_test, )"
   ]
  },
  {
   "cell_type": "code",
   "execution_count": 68,
   "metadata": {},
   "outputs": [
    {
     "name": "stdout",
     "output_type": "stream",
     "text": [
      "Accuracy of Net: 0.91\n",
      "\n",
      "Classification report:\n",
      "              precision    recall  f1-score   support\n",
      "\n",
      "           0       0.86      0.95      0.91      5050\n",
      "           1       0.96      0.92      0.94      2952\n",
      "           2       0.91      0.77      0.83      2456\n",
      "           3       0.97      0.96      0.97      1136\n",
      "\n",
      "   micro avg       0.91      0.91      0.91     11594\n",
      "   macro avg       0.93      0.90      0.91     11594\n",
      "weighted avg       0.91      0.91      0.91     11594\n",
      "\n"
     ]
    },
    {
     "data": {
      "image/png": "[encoded data removed]",
      "text/plain": [
       "<Figure size 720x720 with 1 Axes>"
      ]
     },
     "metadata": {
      "needs_background": "light"
     },
     "output_type": "display_data"
    }
   ],
   "source": [
    "pred_train = model.predict(x_train)\n",
    "accuracy = plot_confusion_matrix(pred_train, y_train, )"
   ]
  },
  {
   "cell_type": "code",
   "execution_count": 69,
   "metadata": {},
   "outputs": [],
   "source": [
    "model_name = 'models/FFT_LSTM_model_acc_87'\n",
    "model.save_params(f=model_name + '_file.pkl',\n",
    "                  f_params=model_name + '.pkl', \n",
    "                  f_optimizer=model_name + '_opt.pkl', \n",
    "                  f_history=model_name + '_history.json')"
   ]
  },
  {
   "cell_type": "code",
   "execution_count": null,
   "metadata": {},
   "outputs": [],
   "source": []
  }
 ],
 "metadata": {
  "kernelspec": {
   "display_name": "Python 3",
   "language": "python",
   "name": "python3"
  },
  "language_info": {
   "codemirror_mode": {
    "name": "ipython",
    "version": 3
   },
   "file_extension": ".py",
   "mimetype": "text/x-python",
   "name": "python",
   "nbconvert_exporter": "python",
   "pygments_lexer": "ipython3",
   "version": "3.6.9"
  },
  "varInspector": {
   "cols": {
    "lenName": 16,
    "lenType": 16,
    "lenVar": 40
   },
   "kernels_config": {
    "python": {
     "delete_cmd_postfix": "",
     "delete_cmd_prefix": "del ",
     "library": "var_list.py",
     "varRefreshCmd": "print(var_dic_list())"
    },
    "r": {
     "delete_cmd_postfix": ") ",
     "delete_cmd_prefix": "rm(",
     "library": "var_list.r",
     "varRefreshCmd": "cat(var_dic_list()) "
    }
   },
   "oldHeight": 123.33333400000001,
   "position": {
    "height": "40px",
    "left": "769.167px",
    "right": "20px",
    "top": "120px",
    "width": "250px"
   },
   "types_to_exclude": [
    "module",
    "function",
    "builtin_function_or_method",
    "instance",
    "_Feature"
   ],
   "varInspector_section_display": "none",
   "window_display": true
  }
 },
 "nbformat": 4,
 "nbformat_minor": 2
}
